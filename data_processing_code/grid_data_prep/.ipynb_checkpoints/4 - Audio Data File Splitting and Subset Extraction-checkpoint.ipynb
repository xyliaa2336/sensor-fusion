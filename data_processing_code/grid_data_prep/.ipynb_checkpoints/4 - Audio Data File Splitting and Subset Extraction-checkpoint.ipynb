{
 "cells": [
  {
   "cell_type": "code",
   "execution_count": null,
   "metadata": {
    "collapsed": false
   },
   "outputs": [],
   "source": [
    "import numpy as np\n",
    "\n",
    "from scipy.io import loadmat\n",
    "dataset = loadmat('grid_mfccs.mat')\n",
    "\n",
    "AUD_DATA_DIR = '/home/dneil/datasets/grid/audio/np_data/'\n",
    "tot_idxs = len(dataset['output_label'][0])\n",
    "\n",
    "for idx in range(tot_idxs):\n",
    "    label = dataset['output_label'][0,idx][0]\n",
    "    mfccs = np.swapaxes(dataset['output_feats'][0,idx], 0, 1)\n",
    "    np.save(AUD_DATA_DIR+label+'_aud.npy', mfccs)\n",
    "print('Done, wrote out {} files.'.format(tot_idxs))"
   ]
  },
  {
   "cell_type": "code",
   "execution_count": null,
   "metadata": {
    "collapsed": true
   },
   "outputs": [],
   "source": [
    "import glob\n",
    "import numpy as np\n",
    "\n",
    "AUD_DATA_DIR = '/home/dneil/datasets/grid/audio/np_data/'\n",
    "VID_DATA_DIR = '/home/dneil/datasets/grid/video/np_data/'\n",
    "\n",
    "np.random.seed(15)\n",
    "subset_extract_ratio=0.2\n",
    "extract_list = []\n",
    "list_of_vids = glob.glob(VID_DATA_DIR+'*.npy')\n",
    "for vid in list_of_vids:\n",
    "    key = vid.split('/')[-1].split('_')[0]\n",
    "    if np.random.random() < subset_extract_ratio:\n",
    "        extract_list.append(key)\n",
    "        \n",
    "print('{} keys selected.'.format(len(extract_list)))"
   ]
  },
  {
   "cell_type": "code",
   "execution_count": null,
   "metadata": {
    "collapsed": true
   },
   "outputs": [],
   "source": [
    "from subprocess import call\n",
    "OUT_DIR='/home/dneil/Dropbox/project/lip_reading/'\n",
    "call(['mkdir', OUT_DIR+'subset_data'])\n",
    "call(['mkdir', OUT_DIR+'subset_data/aud_data'])\n",
    "call(['mkdir', OUT_DIR+'subset_data/vid_data'])\n",
    "for key in extract_list:\n",
    "    call(['cp', AUD_DATA_DIR+key+'_aud.npy', OUT_DIR+'subset_data/aud_data/'])\n",
    "    call(['cp', VID_DATA_DIR+key+'_vid.npy', OUT_DIR+'subset_data/vid_data/'])"
   ]
  }
 ],
 "metadata": {
  "kernelspec": {
   "display_name": "Python 2",
   "language": "python",
   "name": "python2"
  },
  "language_info": {
   "codemirror_mode": {
    "name": "ipython",
    "version": 2
   },
   "file_extension": ".py",
   "mimetype": "text/x-python",
   "name": "python",
   "nbconvert_exporter": "python",
   "pygments_lexer": "ipython2",
   "version": "2.7.11+"
  }
 },
 "nbformat": 4,
 "nbformat_minor": 0
}
